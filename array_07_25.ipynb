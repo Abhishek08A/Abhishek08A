{
 "cells": [
  {
   "cell_type": "code",
   "execution_count": 85,
   "id": "9095f376-f4ec-4f5b-bc29-efcc00fe33cf",
   "metadata": {},
   "outputs": [
    {
     "name": "stdout",
     "output_type": "stream",
     "text": [
      "array('i', [12, 34, 56, 24, 69])\n"
     ]
    }
   ],
   "source": [
    "#Array\n",
    "import array as arr #creating the array in integer\n",
    "arr=arr.array('i',(12,34,56,24,69))\n",
    "print(arr)\n",
    "\n"
   ]
  },
  {
   "cell_type": "code",
   "execution_count": 87,
   "id": "89aa6f96-09fb-4dbd-9412-03051573474a",
   "metadata": {},
   "outputs": [
    {
     "data": {
      "text/plain": [
       "array('i', [12, 34, 56, 24, 69, 19])"
      ]
     },
     "execution_count": 87,
     "metadata": {},
     "output_type": "execute_result"
    }
   ],
   "source": [
    "arr.append(19) #appending the new element\n",
    "arr"
   ]
  },
  {
   "cell_type": "code",
   "execution_count": 89,
   "id": "85ba93b1-5982-482e-8310-524a25a7d3e5",
   "metadata": {},
   "outputs": [
    {
     "name": "stdout",
     "output_type": "stream",
     "text": [
      "56\n"
     ]
    }
   ],
   "source": [
    "print(arr[2]) #access the element"
   ]
  },
  {
   "cell_type": "code",
   "execution_count": 91,
   "id": "14a6a8b7-fe67-49d6-a2e3-6c1e4160364c",
   "metadata": {},
   "outputs": [
    {
     "data": {
      "text/plain": [
       "array('i', [12, 78, 34, 56, 24, 69, 19])"
      ]
     },
     "execution_count": 91,
     "metadata": {},
     "output_type": "execute_result"
    }
   ],
   "source": [
    "arr.insert(1,78) #we can add the element in the particular position\n",
    "arr"
   ]
  },
  {
   "cell_type": "code",
   "execution_count": 95,
   "id": "ce4b2c01-08d7-4346-a895-80517a1c8329",
   "metadata": {},
   "outputs": [
    {
     "data": {
      "text/plain": [
       "4"
      ]
     },
     "execution_count": 95,
     "metadata": {},
     "output_type": "execute_result"
    }
   ],
   "source": [
    "index=arr.index(24) #searching the element in an array\n",
    "index"
   ]
  },
  {
   "cell_type": "code",
   "execution_count": 119,
   "id": "c2155674-2b93-4fa2-8314-50181bf521f8",
   "metadata": {},
   "outputs": [
    {
     "ename": "ValueError",
     "evalue": "array.remove(x): x not in array",
     "output_type": "error",
     "traceback": [
      "\u001b[1;31m---------------------------------------------------------------------------\u001b[0m",
      "\u001b[1;31mValueError\u001b[0m                                Traceback (most recent call last)",
      "Cell \u001b[1;32mIn[119], line 1\u001b[0m\n\u001b[1;32m----> 1\u001b[0m arr\u001b[38;5;241m.\u001b[39mremove(\u001b[38;5;241m56\u001b[39m)\n",
      "\u001b[1;31mValueError\u001b[0m: array.remove(x): x not in array"
     ]
    }
   ],
   "source": [
    "arr.remove(56)"
   ]
  },
  {
   "cell_type": "code",
   "execution_count": null,
   "id": "721ffe69-dae8-4b23-b851-6a50933dfb51",
   "metadata": {},
   "outputs": [],
   "source": []
  },
  {
   "cell_type": "code",
   "execution_count": null,
   "id": "c2fcebe6-0feb-4f6d-97d5-0cda32e71ad1",
   "metadata": {},
   "outputs": [],
   "source": []
  }
 ],
 "metadata": {
  "kernelspec": {
   "display_name": "Python [conda env:base] *",
   "language": "python",
   "name": "conda-base-py"
  },
  "language_info": {
   "codemirror_mode": {
    "name": "ipython",
    "version": 3
   },
   "file_extension": ".py",
   "mimetype": "text/x-python",
   "name": "python",
   "nbconvert_exporter": "python",
   "pygments_lexer": "ipython3",
   "version": "3.12.7"
  }
 },
 "nbformat": 4,
 "nbformat_minor": 5
}
