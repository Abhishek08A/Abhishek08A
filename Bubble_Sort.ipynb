{
 "cells": [
  {
   "cell_type": "code",
   "execution_count": 5,
   "id": "c4dac6ee-45c9-4846-892a-be86927014e1",
   "metadata": {},
   "outputs": [
    {
     "name": "stdout",
     "output_type": "stream",
     "text": [
      "[2, 5, 6, 7, 8, 9]\n"
     ]
    }
   ],
   "source": [
    "#Bubble_sort\n",
    "def sort (nums): #definig the sort function \n",
    "    for i in range(len(nums)-1,0,-1): #for is a outer loop here,i used the range here, index num start with 0 thats y i am using -1 here,  have to reach till 0 thats y \n",
    "        # i am using 0 here \n",
    "        for j in range(i): #i am using inner loop here, here the range will go till the i\n",
    "            if nums [j]>nums[j+1]: #here 1st value is greater than 2nd than need to swap\n",
    "                temp = nums[j] #i used temp variable and assinging nums of j\n",
    "                nums[j] = nums[j+1] \n",
    "                nums[j+1] = temp\n",
    "nums = [5,9,2,6,7,8] #assinging the numbers in the list\n",
    "sort(nums)\n",
    "print(nums)"
   ]
  },
  {
   "cell_type": "code",
   "execution_count": null,
   "id": "e97f5a87-1f65-4971-a013-8b079788342a",
   "metadata": {},
   "outputs": [],
   "source": []
  }
 ],
 "metadata": {
  "kernelspec": {
   "display_name": "Python [conda env:base] *",
   "language": "python",
   "name": "conda-base-py"
  },
  "language_info": {
   "codemirror_mode": {
    "name": "ipython",
    "version": 3
   },
   "file_extension": ".py",
   "mimetype": "text/x-python",
   "name": "python",
   "nbconvert_exporter": "python",
   "pygments_lexer": "ipython3",
   "version": "3.12.7"
  }
 },
 "nbformat": 4,
 "nbformat_minor": 5
}
