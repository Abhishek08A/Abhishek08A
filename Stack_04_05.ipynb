{
 "cells": [
  {
   "cell_type": "code",
   "execution_count": 55,
   "id": "9333a621-4de7-414b-9025-3416691aec26",
   "metadata": {},
   "outputs": [
    {
     "data": {
      "text/plain": [
       "50"
      ]
     },
     "execution_count": 55,
     "metadata": {},
     "output_type": "execute_result"
    }
   ],
   "source": [
    "#STACK\n",
    "x=[] \n",
    "x.append(10)\n",
    "x.append(20)\n",
    "x.append(30)\n",
    "x.append(40)\n",
    "x.append(50)\n",
    "x.pop()\n",
    "#in 'x' variable we have a empty list, in that list i am going to add some values in the order of (10,20,30,40,50), after that i am poping the first \n",
    "#value that is my last element '50',  next i am poping the element '40' , in that order that is going to work. \n",
    "#stack is going to use the principle 'LIFO'(Last in first out), the element which is push to the stack first that element is poping first."
   ]
  },
  {
   "cell_type": "code",
   "execution_count": 40,
   "id": "5f1f9487-1ee9-4758-9f92-26432f012bca",
   "metadata": {},
   "outputs": [
    {
     "data": {
      "text/plain": [
       "40"
      ]
     },
     "execution_count": 40,
     "metadata": {},
     "output_type": "execute_result"
    }
   ],
   "source": [
    "x.pop()"
   ]
  },
  {
   "cell_type": "code",
   "execution_count": 43,
   "id": "f6366b54-caf3-49ef-828c-86ed9c0d67c0",
   "metadata": {},
   "outputs": [
    {
     "data": {
      "text/plain": [
       "30"
      ]
     },
     "execution_count": 43,
     "metadata": {},
     "output_type": "execute_result"
    }
   ],
   "source": [
    "x.pop()"
   ]
  },
  {
   "cell_type": "code",
   "execution_count": 45,
   "id": "7cd12db1-7643-4ddd-91ea-44a87fdf3109",
   "metadata": {},
   "outputs": [
    {
     "data": {
      "text/plain": [
       "20"
      ]
     },
     "execution_count": 45,
     "metadata": {},
     "output_type": "execute_result"
    }
   ],
   "source": [
    "x.pop()"
   ]
  },
  {
   "cell_type": "code",
   "execution_count": 47,
   "id": "7d365861-bc67-431c-ab07-506c95891f98",
   "metadata": {},
   "outputs": [
    {
     "data": {
      "text/plain": [
       "10"
      ]
     },
     "execution_count": 47,
     "metadata": {},
     "output_type": "execute_result"
    }
   ],
   "source": [
    "x.pop()"
   ]
  },
  {
   "cell_type": "code",
   "execution_count": 93,
   "id": "5a6354e6-527b-47ce-a37c-9f95b5ac07b5",
   "metadata": {},
   "outputs": [
    {
     "name": "stdout",
     "output_type": "stream",
     "text": [
      "[50, 40, 30, 20, 10]\n",
      "50\n",
      "[40, 30, 20, 10]\n"
     ]
    }
   ],
   "source": [
    "class stack: #stack is a class name\n",
    "    def __init__(self): #def is a function and init is the constuctor, when a class is initiated 'init' is automatically called. \n",
    "        self.values=[] #it is the empty list\n",
    "    def push(self,x): #in this oper i am pushing the elements, x is the argument that i passed.\n",
    "        self.values=[x]+self.values #in this list, x is a element and is is concating with stack and first stack is empty thats y it store exact value of x\n",
    "    def pop(self): #pop means removing the element in the stack with thw help of pop oper\n",
    "            return self.values.pop(0) #after the poping it rerturn the reaming values which are stored in stack.\n",
    "s=stack()\n",
    "s.push(10)\n",
    "s.push(20)\n",
    "s.push(30)\n",
    "s.push(40)\n",
    "s.push(50)\n",
    "print(s.values)\n",
    "print(s.pop())\n",
    "print(s.values)\n",
    "\n",
    " \n"
   ]
  },
  {
   "cell_type": "code",
   "execution_count": null,
   "id": "08225837-63ad-43f1-8e1f-f5a9ce361585",
   "metadata": {},
   "outputs": [],
   "source": []
  }
 ],
 "metadata": {
  "kernelspec": {
   "display_name": "Python [conda env:base] *",
   "language": "python",
   "name": "conda-base-py"
  },
  "language_info": {
   "codemirror_mode": {
    "name": "ipython",
    "version": 3
   },
   "file_extension": ".py",
   "mimetype": "text/x-python",
   "name": "python",
   "nbconvert_exporter": "python",
   "pygments_lexer": "ipython3",
   "version": "3.12.7"
  }
 },
 "nbformat": 4,
 "nbformat_minor": 5
}
