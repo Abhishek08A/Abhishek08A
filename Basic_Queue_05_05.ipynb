{
 "cells": [
  {
   "cell_type": "code",
   "execution_count": 83,
   "id": "3d822696-56f3-4bed-adcc-afc5fc6f039c",
   "metadata": {},
   "outputs": [
    {
     "name": "stdout",
     "output_type": "stream",
     "text": [
      "queue after enqueue [10, 20, 30, 40]\n"
     ]
    }
   ],
   "source": [
    "queue=[]\n",
    "queue.append(10)\n",
    "queue.append(20)\n",
    "queue.append(30)\n",
    "queue.append(40)\n",
    "print(\"queue after enqueue\",queue) #enqueue means adding the elements in the queue.\n",
    "#queue used FIFO(first in first out) principle. that means the element which is enter the queue first that element is going out of the queue first.\n"
   ]
  },
  {
   "cell_type": "code",
   "execution_count": 85,
   "id": "2724607e-a04f-49a9-85e4-d41d7a0b565f",
   "metadata": {},
   "outputs": [
    {
     "name": "stdout",
     "output_type": "stream",
     "text": [
      "queue after dequeue [10, 20, 40]\n"
     ]
    }
   ],
   "source": [
    "queue.pop(2)\n",
    "print(\"queue after dequeue\",queue) #dequeue means removing the elements in the queue. "
   ]
  },
  {
   "cell_type": "code",
   "execution_count": 87,
   "id": "5f46bbef-eebe-41a0-89fb-456add75dae9",
   "metadata": {},
   "outputs": [
    {
     "name": "stdout",
     "output_type": "stream",
     "text": [
      "Queue is not empty\n"
     ]
    }
   ],
   "source": [
    "if not queue:\n",
    "    print(\"Queue is empty\")\n",
    "else:\n",
    "    print(\"Queue is not empty\")\n"
   ]
  },
  {
   "cell_type": "code",
   "execution_count": null,
   "id": "f401d9d1-ecd7-402c-96f8-744cc93706be",
   "metadata": {},
   "outputs": [],
   "source": []
  }
 ],
 "metadata": {
  "kernelspec": {
   "display_name": "Python [conda env:base] *",
   "language": "python",
   "name": "conda-base-py"
  },
  "language_info": {
   "codemirror_mode": {
    "name": "ipython",
    "version": 3
   },
   "file_extension": ".py",
   "mimetype": "text/x-python",
   "name": "python",
   "nbconvert_exporter": "python",
   "pygments_lexer": "ipython3",
   "version": "3.12.7"
  }
 },
 "nbformat": 4,
 "nbformat_minor": 5
}
