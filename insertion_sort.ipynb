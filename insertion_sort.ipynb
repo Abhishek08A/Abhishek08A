{
 "cells": [
  {
   "cell_type": "code",
   "execution_count": 33,
   "id": "926b34c0-80f7-4892-a202-811dd61d9985",
   "metadata": {},
   "outputs": [],
   "source": [
    "def insertion(arr1): #defining the insertion with function def \n",
    "    n=len(arr1)   # n is a length of the insertion \n",
    "    for i in range(1,n):  #mentioning the range here \n",
    "        key=arr1[i]  #key is the first element of the array\n",
    "        j=i-1  #considered j is the first element\n",
    "        while j>=0 and key <arr1[j]: #here i applied condition , both conditions are true it goes inside \n",
    "            arr1[j+1]=arr1[j] #incrementing the j+1\n",
    "            j-=1 \n",
    "            arr1[j+1]=key #if both conditions are true than it comes here of j+1 is \n",
    "        arr1=[80,70,50,20] #here is the array of insertion\n",
    "        insertion(arr1) #assinging the array to insertion\n",
    "        print(\"Sorted array is: \",arr1) #printing the statement\n",
    "            "
   ]
  },
  {
   "cell_type": "code",
   "execution_count": null,
   "id": "e2b63148-fe5e-470a-945c-3e615bbfc993",
   "metadata": {},
   "outputs": [],
   "source": []
  }
 ],
 "metadata": {
  "kernelspec": {
   "display_name": "Python [conda env:base] *",
   "language": "python",
   "name": "conda-base-py"
  },
  "language_info": {
   "codemirror_mode": {
    "name": "ipython",
    "version": 3
   },
   "file_extension": ".py",
   "mimetype": "text/x-python",
   "name": "python",
   "nbconvert_exporter": "python",
   "pygments_lexer": "ipython3",
   "version": "3.12.7"
  }
 },
 "nbformat": 4,
 "nbformat_minor": 5
}
